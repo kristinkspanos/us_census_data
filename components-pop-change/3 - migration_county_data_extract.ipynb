{
 "cells": [
  {
   "cell_type": "markdown",
   "metadata": {},
   "source": [
    "## Import modules and data"
   ]
  },
  {
   "cell_type": "code",
   "execution_count": 2,
   "metadata": {},
   "outputs": [],
   "source": [
    "import pandas as pd\n",
    "import numpy as np"
   ]
  },
  {
   "cell_type": "code",
   "execution_count": 3,
   "metadata": {},
   "outputs": [],
   "source": [
    "migration = pd.read_csv(\"migration_cumulative.csv\")"
   ]
  },
  {
   "cell_type": "markdown",
   "metadata": {},
   "source": [
    "## Inspect and clean data"
   ]
  },
  {
   "cell_type": "code",
   "execution_count": 4,
   "metadata": {},
   "outputs": [],
   "source": [
    "migration = migration.drop(columns=['Unnamed: 0', 'mdiv_code','stcou'])"
   ]
  },
  {
   "cell_type": "code",
   "execution_count": 5,
   "metadata": {},
   "outputs": [
    {
     "data": {
      "text/plain": [
       "County or equivalent             1841\n",
       "Micropolitan Statistical Area     543\n",
       "Metropolitan Statistical Area     384\n",
       "Metropolitan Division              31\n",
       "Name: geo_type, dtype: int64"
      ]
     },
     "execution_count": 5,
     "metadata": {},
     "output_type": "execute_result"
    }
   ],
   "source": [
    "migration['geo_type'].value_counts()"
   ]
  },
  {
   "cell_type": "code",
   "execution_count": 35,
   "metadata": {},
   "outputs": [],
   "source": [
    "# filter migration df to show only metro and micro areas\n",
    "migration_cbsa = migration[(migration['geo_type'] == 'County or equivalent')]\n",
    "migration_cbsa = migration_cbsa.reset_index()"
   ]
  },
  {
   "cell_type": "code",
   "execution_count": 45,
   "metadata": {},
   "outputs": [
    {
     "name": "stderr",
     "output_type": "stream",
     "text": [
      "c:\\users\\kspanos\\appdata\\local\\programs\\python\\python37\\lib\\site-packages\\ipykernel_launcher.py:2: SettingWithCopyWarning: \n",
      "A value is trying to be set on a copy of a slice from a DataFrame.\n",
      "Try using .loc[row_indexer,col_indexer] = value instead\n",
      "\n",
      "See the caveats in the documentation: https://pandas.pydata.org/pandas-docs/stable/user_guide/indexing.html#returning-a-view-versus-a-copy\n",
      "  \n",
      "c:\\users\\kspanos\\appdata\\local\\programs\\python\\python37\\lib\\site-packages\\ipykernel_launcher.py:6: SettingWithCopyWarning: \n",
      "A value is trying to be set on a copy of a slice from a DataFrame\n",
      "\n",
      "See the caveats in the documentation: https://pandas.pydata.org/pandas-docs/stable/user_guide/indexing.html#returning-a-view-versus-a-copy\n",
      "  \n",
      "c:\\users\\kspanos\\appdata\\local\\programs\\python\\python37\\lib\\site-packages\\IPython\\core\\interactiveshell.py:3418: SettingWithCopyWarning: \n",
      "A value is trying to be set on a copy of a slice from a DataFrame\n",
      "\n",
      "See the caveats in the documentation: https://pandas.pydata.org/pandas-docs/stable/user_guide/indexing.html#returning-a-view-versus-a-copy\n",
      "  exec(code_obj, self.user_global_ns, self.user_ns)\n",
      "c:\\users\\kspanos\\appdata\\local\\programs\\python\\python37\\lib\\site-packages\\ipykernel_launcher.py:8: SettingWithCopyWarning: \n",
      "A value is trying to be set on a copy of a slice from a DataFrame\n",
      "\n",
      "See the caveats in the documentation: https://pandas.pydata.org/pandas-docs/stable/user_guide/indexing.html#returning-a-view-versus-a-copy\n",
      "  \n"
     ]
    }
   ],
   "source": [
    "# create name_cbsa column and populate with name + short version of cbsa type\n",
    "#migration_cbsa['name_cbsa'] = ''\n",
    "#\n",
    "#for i in range(len(migration_cbsa['geo_type'])):\n",
    "#  if migration_cbsa['geo_type'][i] == 'Metropolitan Statistical Area':\n",
    "#    migration_cbsa['name_cbsa'][i] = migration_cbsa['name'][i] + ' Metro Area'\n",
    "#  elif migration_cbsa['geo_type'][i] == 'Micropolitan Statistical Area':\n",
    "#    migration_cbsa['name_cbsa'][i] = migration_cbsa['name'][i] + ' Micro Area'"
   ]
  },
  {
   "cell_type": "code",
   "execution_count": 46,
   "metadata": {},
   "outputs": [],
   "source": [
    "# reorder and extract relevant columns\n",
    "migration_cbsa_slice = migration_cbsa[['name',\n",
    "                                 'geo_type',\n",
    "                                 'name_cbsa',\n",
    "                                 'popestimate2010',\n",
    "                                 'popestimate2020',\n",
    "                                 'n_pop_chg_2010_2020',\n",
    "                                 'births_2010_2020', \n",
    "                                 'deaths_2010_2020',\n",
    "                                 'natural_increase_2010_2020', \n",
    "                                 'int_migration_2010_2020',\n",
    "                                 'dom_migration_2010_2020',\n",
    "                                 'net_migration_2010_2020',\n",
    "                                 'dom_migration_rate_1020',\n",
    "                                 'int_migration_rate_1020']]"
   ]
  },
  {
   "cell_type": "code",
   "execution_count": 47,
   "metadata": {},
   "outputs": [
    {
     "data": {
      "text/plain": [
       "Index(['name', 'geo_type', 'name_cbsa', 'popestimate2010', 'popestimate2020',\n",
       "       'n_pop_chg_2010_2020', 'births_2010_2020', 'deaths_2010_2020',\n",
       "       'natural_increase_2010_2020', 'int_migration_2010_2020',\n",
       "       'dom_migration_2010_2020', 'net_migration_2010_2020',\n",
       "       'dom_migration_rate_1020', 'int_migration_rate_1020'],\n",
       "      dtype='object')"
      ]
     },
     "execution_count": 47,
     "metadata": {},
     "output_type": "execute_result"
    }
   ],
   "source": [
    "migration_cbsa_slice.columns"
   ]
  },
  {
   "cell_type": "code",
   "execution_count": 48,
   "metadata": {},
   "outputs": [],
   "source": [
    "migration_cbsa_slice.to_csv('migration_cbsa_slice.csv')"
   ]
  },
  {
   "cell_type": "code",
   "execution_count": null,
   "metadata": {},
   "outputs": [],
   "source": []
  }
 ],
 "metadata": {
  "kernelspec": {
   "display_name": "Python 3",
   "language": "python",
   "name": "python3"
  },
  "language_info": {
   "codemirror_mode": {
    "name": "ipython",
    "version": 3
   },
   "file_extension": ".py",
   "mimetype": "text/x-python",
   "name": "python",
   "nbconvert_exporter": "python",
   "pygments_lexer": "ipython3",
   "version": "3.7.6"
  }
 },
 "nbformat": 4,
 "nbformat_minor": 4
}
